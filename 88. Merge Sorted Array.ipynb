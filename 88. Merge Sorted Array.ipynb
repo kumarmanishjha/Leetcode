{
 "cells": [
  {
   "cell_type": "markdown",
   "metadata": {},
   "source": [
    "## 88. Merge Sorted Array\n",
    "\n",
    "Given two sorted integer arrays nums1 and nums2, merge nums2 into nums1 as one sorted array.\n",
    "\n",
    "Note:\n",
    "\n",
    "The number of elements initialized in nums1 and nums2 are m and n respectively.\n",
    "You may assume that nums1 has enough space (size that is greater or equal to m + n) to hold additional elements from nums2.\n",
    "Example:\n",
    "\n",
    "\n",
    "\n",
    "Input:\n",
    "\n",
    "\n",
    "nums1 = [1,2,3,0,0,0], m = 3\n",
    "\n",
    "nums2 = [2,5,6],    n = 3\n",
    "\n",
    "\n",
    "\n",
    "Output: [1,2,2,3,5,6]"
   ]
  },
  {
   "cell_type": "code",
   "execution_count": null,
   "metadata": {
    "collapsed": true
   },
   "outputs": [],
   "source": [
    "class Solution:\n",
    "    def merge(self, nums1: List[int], m: int, nums2: List[int], n: int) -> None:\n",
    "        \n",
    "        \n",
    "    def searchPosToInsert(nums1, n):\n",
    "        x = int(len(nums1)/2)\n",
    "        if(nums1[x] == n):\n",
    "            return x\n",
    "        elif(nums1[x-1]<=n and num1[x] > n):\n",
    "            return x-1\n",
    "        elif(nums1[x] == 0):\n",
    "            searchPosToInsert(nums1[:x])\n",
    "        elif(nums1[x] > n):\n",
    "            searchPosToInsert(nums1[:x])\n",
    "        elif(nums1[x] < n):\n",
    "            searchPosToInsert(nums1[:x])\n",
    "            "
   ]
  },
  {
   "cell_type": "code",
   "execution_count": 57,
   "metadata": {
    "collapsed": true
   },
   "outputs": [],
   "source": [
    "    def searchPosToInsert(nums1, n):\n",
    "        x = int(len(nums1)/2)\n",
    "        print(x)\n",
    "        if(nums1[x] == n):\n",
    "            return x\n",
    "        elif(nums1[x-1]<=n and (nums1[x] > n or nums1[x] == 0)):\n",
    "            return  \n",
    "        elif(nums1[x] == 0):\n",
    "            x = searchPosToInsert(nums1[:x], n)\n",
    "        elif(nums1[x] < n):\n",
    "            #print('here')\n",
    "            x = searchPosToInsert(nums1[x:], n)\n",
    "        elif(nums1[x] > n):\n",
    "            x = searchPosToInsert(nums1[:x], n)\n",
    "        \n",
    "        return x"
   ]
  },
  {
   "cell_type": "code",
   "execution_count": 58,
   "metadata": {
    "collapsed": true
   },
   "outputs": [],
   "source": [
    "l = [1,2,3,10,0,0]\n",
    "n = 17"
   ]
  },
  {
   "cell_type": "code",
   "execution_count": 59,
   "metadata": {
    "collapsed": false
   },
   "outputs": [
    {
     "name": "stdout",
     "output_type": "stream",
     "text": [
      "3\n",
      "here\n",
      "1\n"
     ]
    },
    {
     "data": {
      "text/plain": [
       "1"
      ]
     },
     "execution_count": 59,
     "metadata": {},
     "output_type": "execute_result"
    }
   ],
   "source": [
    "searchPosToInsert(l, n)"
   ]
  },
  {
   "cell_type": "code",
   "execution_count": null,
   "metadata": {
    "collapsed": true
   },
   "outputs": [],
   "source": []
  }
 ],
 "metadata": {
  "kernelspec": {
   "display_name": "Python 3",
   "language": "python",
   "name": "python3"
  },
  "language_info": {
   "codemirror_mode": {
    "name": "ipython",
    "version": 3
   },
   "file_extension": ".py",
   "mimetype": "text/x-python",
   "name": "python",
   "nbconvert_exporter": "python",
   "pygments_lexer": "ipython3",
   "version": "3.6.0"
  }
 },
 "nbformat": 4,
 "nbformat_minor": 2
}
