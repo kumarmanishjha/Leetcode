{
  "nbformat": 4,
  "nbformat_minor": 0,
  "metadata": {
    "colab": {
      "name": "33. Search in Rotated Sorted Array.ipynb",
      "provenance": [],
      "collapsed_sections": []
    },
    "kernelspec": {
      "name": "python3",
      "display_name": "Python 3"
    }
  },
  "cells": [
    {
      "cell_type": "code",
      "metadata": {
        "id": "0L_9mwS74Tiw"
      },
      "source": [
        "from typing import List\n",
        "import numpy as np\n"
      ],
      "execution_count": null,
      "outputs": []
    },
    {
      "cell_type": "code",
      "metadata": {
        "id": "Wa7LaLqgvqzY"
      },
      "source": [
        "class Solution:\n",
        "    def search(self, nums: List[int], target: int) -> int:\n",
        "      f = 0\n",
        "      l = len(nums) - 1\n",
        "      pivot = self.findPivot(nums, f, l)\n",
        "      if pivot == -1:\n",
        "        return self.binarySearch(nums, 0, len(nums)-1, target)\n",
        "\n",
        "      if nums[pivot] == target:\n",
        "        return pivot\n",
        "      elif nums[0] <= target:\n",
        "        return self.binarySearch(nums, 0, pivot-1, target)\n",
        "      return self.binarySearch(nums, pivot, len(nums)-1, target)\n",
        "\n",
        "    def findPivot(self, arr, first, last):\n",
        "      if(last < first):\n",
        "        return -1\n",
        "      if first == last:\n",
        "        return last\n",
        "\n",
        "      mid= (first + last) // 2\n",
        "\n",
        "      if mid < last and arr[mid] >  arr[mid + 1]:\n",
        "        return mid\n",
        "      if mid > first and arr[mid] < arr[mid - 1]:\n",
        "        return mid - 1\n",
        "      if arr[first] >= arr[mid]:\n",
        "        self.findPivot(arr, first, mid-1)\n",
        "      return self.findPivot( arr, mid+1, last)\n",
        "\n",
        "    def binarySearch(self, arr, first, last, target):\n",
        "      if(last < first):\n",
        "        return -1\n",
        "      \n",
        "      mid = first + last //2\n",
        "      if(arr[mid] == target):\n",
        "        return mid\n",
        "      if(first < mid and  arr[mid] > target):\n",
        "        return self.binarySearch(arr, first, mid-1, target)\n",
        "      \n",
        "      return self.binarySearch(arr, mid+1, last, target)"
      ],
      "execution_count": null,
      "outputs": []
    },
    {
      "cell_type": "code",
      "metadata": {
        "id": "S36xn74P2ZeE"
      },
      "source": [
        "nums = [4,5,6,7,0,1,2]\n",
        "target = 0"
      ],
      "execution_count": null,
      "outputs": []
    },
    {
      "cell_type": "code",
      "metadata": {
        "id": "2JvVCiazyM_G"
      },
      "source": [
        "S = Solution()"
      ],
      "execution_count": null,
      "outputs": []
    },
    {
      "cell_type": "code",
      "metadata": {
        "id": "b_-u6GMO4kMU"
      },
      "source": [
        ""
      ],
      "execution_count": null,
      "outputs": []
    }
  ]
}