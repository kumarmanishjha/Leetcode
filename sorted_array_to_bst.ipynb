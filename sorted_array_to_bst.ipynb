{
 "cells": [
  {
   "cell_type": "code",
   "execution_count": 13,
   "metadata": {
    "collapsed": true
   },
   "outputs": [],
   "source": [
    "class Node: \n",
    "    def __init__(self, d): \n",
    "        self.data = d \n",
    "        self.left = None\n",
    "        self.right = None\n",
    "        \n",
    "        \n",
    "def sortedArrayToBST(arr): \n",
    "      \n",
    "    if not arr: \n",
    "        return None\n",
    "  \n",
    "    # find middle \n",
    "    mid = int(len(arr)/ 2) \n",
    "      \n",
    "    # make the middle element the root \n",
    "    root = Node(arr[mid]) \n",
    "      \n",
    "    # left subtree of root has all \n",
    "    # values <arr[mid] \n",
    "    root.left = sortedArrayToBST(arr[:mid]) \n",
    "      \n",
    "    # right subtree of root has all  \n",
    "    # values >arr[mid] \n",
    "    root.right = sortedArrayToBST(arr[mid+1:]) \n",
    "    return root "
   ]
  },
  {
   "cell_type": "code",
   "execution_count": 14,
   "metadata": {
    "collapsed": true
   },
   "outputs": [],
   "source": [
    "arr = [1, 2, 3, 4, 5, 6, 7] \n",
    "root = sortedArrayToBST(arr)"
   ]
  },
  {
   "cell_type": "code",
   "execution_count": 16,
   "metadata": {
    "collapsed": false
   },
   "outputs": [
    {
     "name": "stdout",
     "output_type": "stream",
     "text": [
      "PreOrder Traversal of constructed BST \n",
      "4\n",
      "2\n",
      "1\n",
      "3\n",
      "6\n",
      "5\n",
      "7\n"
     ]
    }
   ],
   "source": [
    "def preOrder(node): \n",
    "    if not node: \n",
    "        return\n",
    "      \n",
    "    print(node.data) \n",
    "    preOrder(node.left) \n",
    "    preOrder(node.right)  \n",
    "  \n",
    "# driver program to test above function \n",
    "\"\"\" \n",
    "Constructed balanced BST is  \n",
    "    4 \n",
    "/ \\ \n",
    "2 6 \n",
    "/ \\ / \\ \n",
    "1 3 5 7 \n",
    "\"\"\"\n",
    "  \n",
    "arr = [1, 2, 3, 4, 5, 6, 7] \n",
    "root = sortedArrayToBST(arr) \n",
    "print (\"PreOrder Traversal of constructed BST \") \n",
    "preOrder(root)"
   ]
  },
  {
   "cell_type": "code",
   "execution_count": null,
   "metadata": {
    "collapsed": true
   },
   "outputs": [],
   "source": []
  }
 ],
 "metadata": {
  "kernelspec": {
   "display_name": "Python 3",
   "language": "python",
   "name": "python3"
  },
  "language_info": {
   "codemirror_mode": {
    "name": "ipython",
    "version": 3
   },
   "file_extension": ".py",
   "mimetype": "text/x-python",
   "name": "python",
   "nbconvert_exporter": "python",
   "pygments_lexer": "ipython3",
   "version": "3.6.0"
  }
 },
 "nbformat": 4,
 "nbformat_minor": 2
}
