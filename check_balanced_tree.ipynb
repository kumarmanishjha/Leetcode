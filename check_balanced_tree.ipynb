{
 "cells": [
  {
   "cell_type": "code",
   "execution_count": 1,
   "metadata": {
    "collapsed": true
   },
   "outputs": [],
   "source": [
    "#Node Class\n",
    "class Node:\n",
    "    def __init__(self, data):\n",
    "        self.data = data\n",
    "        self.left = None\n",
    "        self.right = None\n",
    "        self.height = None"
   ]
  },
  {
   "cell_type": "code",
   "execution_count": 15,
   "metadata": {
    "collapsed": false
   },
   "outputs": [],
   "source": [
    "#Check if a tree/sub-tree below a node is balanced\n",
    "#Complexity is O(n)\n",
    "def isBalanced(node):\n",
    "    if node is None:\n",
    "        return True\n",
    "    \n",
    "    l_node = node.left    #left node\n",
    "    r_node = node.right   #right node\n",
    "    \n",
    "    l = isBalanced(l_node)  #Recursive call on left node/sub-tree\n",
    "    r = isBalanced(r_node)  #Recursive call on right node/sub-tree\n",
    "    \n",
    "    #Parent node's tree height is 1 added to max height of it's left or right sub-tree\n",
    "    if(node.left == None and node.right == None):\n",
    "        node.height = 0\n",
    "        return True\n",
    "    \n",
    "    elif(node.left == None):\n",
    "        node.height = r_node.height + 1\n",
    "        if r_node.height >= 1: return True\n",
    "        \n",
    "    elif(node.right == None):\n",
    "        node.height = l_node.height + 1\n",
    "        if l_node.height <= 1: return True\n",
    "        \n",
    "    else:\n",
    "        node.height = max(l_node.height, r_node.height) + 1\n",
    "        if abs(l_node.height - r_node.height) <=1:\n",
    "            return l and r\n",
    "    \n",
    "    #If height difference of left and right sub-tree is less than 1 and both sub-tree are balanced\n",
    "    #if abs(l_node.height - r_node.height) <=1:\n",
    "    #    return l and r\n",
    "    \n",
    "    #In all other cases, return False\n",
    "    return False"
   ]
  },
  {
   "cell_type": "code",
   "execution_count": 16,
   "metadata": {
    "collapsed": true
   },
   "outputs": [],
   "source": [
    "root = Node(1)\n",
    "root.left = Node(2)\n",
    "root.right = Node(3)\n",
    "root.left.left = Node(4)\n",
    "root.left.right = Node(5)\n",
    "root.left.left = Node(6)\n",
    "root.left.left.left = Node(7)"
   ]
  },
  {
   "cell_type": "code",
   "execution_count": 17,
   "metadata": {
    "collapsed": false
   },
   "outputs": [
    {
     "data": {
      "text/plain": [
       "False"
      ]
     },
     "execution_count": 17,
     "metadata": {},
     "output_type": "execute_result"
    }
   ],
   "source": [
    "isBalanced(root)"
   ]
  },
  {
   "cell_type": "code",
   "execution_count": 18,
   "metadata": {
    "collapsed": true
   },
   "outputs": [],
   "source": [
    "root = Node(1) \n",
    "root.left = Node(2) \n",
    "root.right = Node(3) \n",
    "root.left.left = Node(4) \n",
    "root.left.right = Node(5) \n",
    "root.right.left = Node(6) \n",
    "root.left.left.left = Node(7) "
   ]
  },
  {
   "cell_type": "code",
   "execution_count": 19,
   "metadata": {
    "collapsed": false
   },
   "outputs": [
    {
     "data": {
      "text/plain": [
       "True"
      ]
     },
     "execution_count": 19,
     "metadata": {},
     "output_type": "execute_result"
    }
   ],
   "source": [
    "isBalanced(root)"
   ]
  },
  {
   "cell_type": "code",
   "execution_count": 20,
   "metadata": {
    "collapsed": true
   },
   "outputs": [],
   "source": [
    "root = Node(1) \n",
    "root.left = Node(2) \n",
    "root.right = Node(3) \n",
    "root.left.left = Node(4) \n",
    "root.left.right = Node(5) \n",
    "root.left.left.left = Node(8)"
   ]
  },
  {
   "cell_type": "code",
   "execution_count": 21,
   "metadata": {
    "collapsed": false
   },
   "outputs": [
    {
     "data": {
      "text/plain": [
       "False"
      ]
     },
     "execution_count": 21,
     "metadata": {},
     "output_type": "execute_result"
    }
   ],
   "source": [
    "isBalanced(root)"
   ]
  },
  {
   "cell_type": "code",
   "execution_count": null,
   "metadata": {
    "collapsed": true
   },
   "outputs": [],
   "source": []
  }
 ],
 "metadata": {
  "kernelspec": {
   "display_name": "Python 3",
   "language": "python",
   "name": "python3"
  },
  "language_info": {
   "codemirror_mode": {
    "name": "ipython",
    "version": 3
   },
   "file_extension": ".py",
   "mimetype": "text/x-python",
   "name": "python",
   "nbconvert_exporter": "python",
   "pygments_lexer": "ipython3",
   "version": "3.6.0"
  }
 },
 "nbformat": 4,
 "nbformat_minor": 2
}
