{
 "cells": [
  {
   "cell_type": "code",
   "execution_count": 3,
   "metadata": {},
   "outputs": [],
   "source": [
    "x = [1,2,3,4,5]"
   ]
  },
  {
   "cell_type": "code",
   "execution_count": 4,
   "metadata": {},
   "outputs": [
    {
     "data": {
      "text/plain": [
       "[]"
      ]
     },
     "execution_count": 4,
     "metadata": {},
     "output_type": "execute_result"
    }
   ],
   "source": [
    "y = [x * -1 for x in l]\n",
    "y"
   ]
  },
  {
   "cell_type": "code",
   "execution_count": 6,
   "metadata": {},
   "outputs": [
    {
     "data": {
      "text/plain": [
       "[-10, -9, -8, -7, -6, -5, -4, -3, -2, -1]"
      ]
     },
     "execution_count": 6,
     "metadata": {},
     "output_type": "execute_result"
    }
   ],
   "source": [
    "list(range(-10,0,1))"
   ]
  },
  {
   "cell_type": "code",
   "execution_count": 42,
   "metadata": {},
   "outputs": [],
   "source": [
    "def solution(N):\n",
    "    # write your code in Python 3.6\n",
    "    zero = [0]\n",
    "\n",
    "    if(N%2 == 0):\n",
    "        neg_list = list(range(-N//2,0,1))\n",
    "        pos_list = list(range(1, N//2+1,1))\n",
    "        final_list = neg_list + pos_list\n",
    "    else:\n",
    "        neg_list = list(range(-N//2+1,0,1))\n",
    "        pos_list = list(range(1, N//2+1,1))\n",
    "        final_list = neg_list + pos_list\n",
    "        final_list = neg_list + zero + pos_list\n",
    "\n",
    "    return final_list\n"
   ]
  },
  {
   "cell_type": "code",
   "execution_count": 76,
   "metadata": {},
   "outputs": [],
   "source": [
    "# you can write to stdout for debugging purposes, e.g.\n",
    "# print(\"this is a debug message\")\n",
    "\n",
    "def get_result(result):\n",
    "    if(result == \"OK\"):\n",
    "        return True\n",
    "    else:\n",
    "        return False\n",
    "\n",
    "\n",
    "def solution(T, R):\n",
    "    # write your code in Python 3.6\n",
    "    result_dict = {}\n",
    "    n_correct_ans = 0\n",
    "\n",
    "    for i in range(len(T)):\n",
    "        task = list(T[i])\n",
    "        curr_result = get_result(R[i])\n",
    "        if(task[-1].isalpha()):\n",
    "            #If last element of taskname is alphabet, the group maybe already  in the result_dict. Use logical 'and' to get result of the group\n",
    "            if(task[-2] in result_dict):\n",
    "                result_dict[task[-2]] = result_dict.get(task[-2]) and curr_result\n",
    "            else:\n",
    "                result_dict[task[-2]] = curr_result\n",
    "        \n",
    "        else:\n",
    "            result_dict[task[-1]] = curr_result\n",
    "\n",
    "    #No of groups\n",
    "    n_test_grp = len(result_dict)\n",
    "    \n",
    "    print(result_dict)\n",
    "\n",
    "    for result in result_dict.values():\n",
    "        if(result):\n",
    "            n_correct_ans += 1\n",
    "\n",
    "    final_result = n_correct_ans * 100 //n_test_grp\n",
    "\n",
    "    return final_result\n"
   ]
  },
  {
   "cell_type": "code",
   "execution_count": 77,
   "metadata": {},
   "outputs": [],
   "source": [
    "T = [\"codility1\",\"codility3\",\"codility4b\",\"codility4a\",\"codility2\"]\n",
    "R = [\"Wrong answer\",\"OK\",\"Runtime error\",\"OK\",\"Time limit exceeded\"]"
   ]
  },
  {
   "cell_type": "code",
   "execution_count": 78,
   "metadata": {},
   "outputs": [
    {
     "name": "stdout",
     "output_type": "stream",
     "text": [
      "{'1': False, '2': True, '3': False}\n"
     ]
    },
    {
     "data": {
      "text/plain": [
       "33"
      ]
     },
     "execution_count": 78,
     "metadata": {},
     "output_type": "execute_result"
    }
   ],
   "source": [
    "solution(T,R)"
   ]
  },
  {
   "cell_type": "code",
   "execution_count": 68,
   "metadata": {},
   "outputs": [],
   "source": [
    "y = list(T[1])"
   ]
  },
  {
   "cell_type": "code",
   "execution_count": 69,
   "metadata": {},
   "outputs": [
    {
     "data": {
      "text/plain": [
       "False"
      ]
     },
     "execution_count": 69,
     "metadata": {},
     "output_type": "execute_result"
    }
   ],
   "source": [
    "y[-1].isalpha()"
   ]
  },
  {
   "cell_type": "code",
   "execution_count": 72,
   "metadata": {},
   "outputs": [
    {
     "data": {
      "text/plain": [
       "'t'"
      ]
     },
     "execution_count": 72,
     "metadata": {},
     "output_type": "execute_result"
    }
   ],
   "source": [
    "y[-2]"
   ]
  },
  {
   "cell_type": "code",
   "execution_count": 67,
   "metadata": {},
   "outputs": [
    {
     "data": {
      "text/plain": [
       "True"
      ]
     },
     "execution_count": 67,
     "metadata": {},
     "output_type": "execute_result"
    }
   ],
   "source": [
    " get_result(R[1])"
   ]
  },
  {
   "cell_type": "code",
   "execution_count": 64,
   "metadata": {},
   "outputs": [
    {
     "data": {
      "text/plain": [
       "False"
      ]
     },
     "execution_count": 64,
     "metadata": {},
     "output_type": "execute_result"
    }
   ],
   "source": [
    "x.isalpha()"
   ]
  },
  {
   "cell_type": "code",
   "execution_count": null,
   "metadata": {},
   "outputs": [],
   "source": []
  }
 ],
 "metadata": {
  "kernelspec": {
   "display_name": "Python 3",
   "language": "python",
   "name": "python3"
  },
  "language_info": {
   "codemirror_mode": {
    "name": "ipython",
    "version": 3
   },
   "file_extension": ".py",
   "mimetype": "text/x-python",
   "name": "python",
   "nbconvert_exporter": "python",
   "pygments_lexer": "ipython3",
   "version": "3.7.9"
  }
 },
 "nbformat": 4,
 "nbformat_minor": 4
}
