{
 "cells": [
  {
   "cell_type": "markdown",
   "metadata": {},
   "source": [
    "Reference: https://www.geeksforgeeks.org/binary-search-tree-set-1-search-and-insertion/"
   ]
  },
  {
   "cell_type": "code",
   "execution_count": 1,
   "metadata": {
    "collapsed": true
   },
   "outputs": [],
   "source": [
    "class Node:\n",
    "    def __init__(self, data):\n",
    "        self.data = data\n",
    "        self.left = None\n",
    "        self.right = None"
   ]
  },
  {
   "cell_type": "code",
   "execution_count": 2,
   "metadata": {
    "collapsed": true
   },
   "outputs": [],
   "source": [
    "#Search in bst using key\n",
    "#Complexity: O(h) where h is height of bst. Worst case scenario: Skewed BST\n",
    "def searchBST(root, key):\n",
    "    \n",
    "    #Base case: key at root or root is empty\n",
    "    if root.data == key or root is None:\n",
    "        return root\n",
    "    \n",
    "    #If key is less than root, search in right subtree\n",
    "    elif(root.data < key):\n",
    "        return searchBST(root.right, key)\n",
    "    \n",
    "    #If key is greater than root, search in left subtree\n",
    "    elif(root.data > key):\n",
    "        return searchBST(root.left, key)\n",
    "        "
   ]
  },
  {
   "cell_type": "code",
   "execution_count": 3,
   "metadata": {
    "collapsed": true
   },
   "outputs": [],
   "source": [
    "#Insert a new node in bst\n",
    "#Complexity: O(h) where h is height of bst. Worst case scenario: Skewed BST\n",
    "def insertBST(root, node):\n",
    "    if root is None: #Interesting fact: Comparing with None is supported by both 'is' and '=='\n",
    "        root = node\n",
    "    else:\n",
    "        if root.data < node.data :\n",
    "            if root.right is None:\n",
    "                root.right = node\n",
    "            else:\n",
    "                insertBST(root.right, node)\n",
    "        else:\n",
    "            if root.left is None:\n",
    "                root.left = node\n",
    "            else:\n",
    "                insertBST(root.left, node)"
   ]
  },
  {
   "cell_type": "code",
   "execution_count": 9,
   "metadata": {
    "collapsed": true
   },
   "outputs": [],
   "source": [
    "#Inorder traversal\n",
    "\n",
    "def inorder(root):\n",
    "    if root:\n",
    "        inorder(root.left)\n",
    "        print(root.data)\n",
    "        inorder(root.right)"
   ]
  },
  {
   "cell_type": "code",
   "execution_count": 10,
   "metadata": {
    "collapsed": false
   },
   "outputs": [],
   "source": [
    "root = Node(50) \n",
    "insertBST(root,Node(30)) \n",
    "insertBST(root,Node(20)) \n",
    "insertBST(root,Node(40)) \n",
    "insertBST(root,Node(70)) \n",
    "insertBST(root,Node(60)) \n",
    "insertBST(root,Node(80)) "
   ]
  },
  {
   "cell_type": "code",
   "execution_count": 11,
   "metadata": {
    "collapsed": false
   },
   "outputs": [
    {
     "name": "stdout",
     "output_type": "stream",
     "text": [
      "20\n",
      "30\n",
      "40\n",
      "50\n",
      "60\n",
      "70\n",
      "80\n"
     ]
    }
   ],
   "source": [
    "inorder(root) \n"
   ]
  }
 ],
 "metadata": {
  "kernelspec": {
   "display_name": "Python 3",
   "language": "python",
   "name": "python3"
  },
  "language_info": {
   "codemirror_mode": {
    "name": "ipython",
    "version": 3
   },
   "file_extension": ".py",
   "mimetype": "text/x-python",
   "name": "python",
   "nbconvert_exporter": "python",
   "pygments_lexer": "ipython3",
   "version": "3.6.0"
  }
 },
 "nbformat": 4,
 "nbformat_minor": 2
}
