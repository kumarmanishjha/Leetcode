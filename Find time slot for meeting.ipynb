{
 "cells": [
  {
   "cell_type": "markdown",
   "metadata": {},
   "source": [
    "Original question asked at:\n",
    "https://www.youtube.com/watch?v=3Q_oYDQ2whs\n",
    "\n",
    "Please check more problems like this at: \n",
    " https://www.algoexpert.io"
   ]
  },
  {
   "cell_type": "markdown",
   "metadata": {},
   "source": [
    "## Given calendar schedule of two peope, find the available common slots of time for a meeting of given length in minutes.\n",
    "\n",
    "* Calendar: Time slots at which a person is not available.*\n",
    "\n",
    "* Office hours: Meetings outside this timeframe cannot be booked*\n",
    "\n",
    "\n",
    "\n",
    "\n",
    "\n",
    "### For Example: \n",
    "Sample Input: <br>\n",
    "Calendar of person A $\\;\\;\\;$: [['9:00', '10:30']['12:00', '13:00']['16:00', '18:00']]<br>\n",
    "Office hours of person B :  ['9:00', '20:00']<br>\n",
    "Calendar of person B $\\;\\;\\;$:[['10:00', '11:30']['12:30', '14:30']['14:30', '15:00']['16:00', '17:00']]<br>\n",
    "Office hours of person B:  ['10:00', '18:30']<br>\n",
    "<br>\n",
    "Meeting duration: 30\n",
    "<br>\n",
    "Sample output: <br>\n",
    "[['11:30', '12:30']['15:00', '16:00']['18:00','18:30']]"
   ]
  },
  {
   "cell_type": "code",
   "execution_count": null,
   "metadata": {},
   "outputs": [],
   "source": [
    "[]"
   ]
  }
 ],
 "metadata": {
  "kernelspec": {
   "display_name": "Python 3",
   "language": "python",
   "name": "python3"
  },
  "language_info": {
   "codemirror_mode": {
    "name": "ipython",
    "version": 3
   },
   "file_extension": ".py",
   "mimetype": "text/x-python",
   "name": "python",
   "nbconvert_exporter": "python",
   "pygments_lexer": "ipython3",
   "version": "3.7.4"
  }
 },
 "nbformat": 4,
 "nbformat_minor": 2
}
