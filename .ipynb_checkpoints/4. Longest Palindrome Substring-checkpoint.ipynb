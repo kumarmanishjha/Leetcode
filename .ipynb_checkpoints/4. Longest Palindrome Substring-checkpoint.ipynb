{
 "cells": [
  {
   "attachments": {
    "image.png": {
     "image/png": "[encoded data removed]"
    }
   },
   "cell_type": "markdown",
   "metadata": {},
   "source": [
    "![image.png](attachment:image.png)"
   ]
  },
  {
   "cell_type": "code",
   "execution_count": 63,
   "metadata": {},
   "outputs": [],
   "source": [
    "class Solution:\n",
    "    def longestPalindrome(self, s: str) -> str:\n",
    "        palindrome = []\n",
    "        charPosDict = {}\n",
    "        for index,char in enumerate(s):\n",
    "            if(charPosDict.has_key(char)):\n",
    "                x = charPosDict.get(char)\n",
    "                x.append(index)\n",
    "                dict_update =  {char: x}\n",
    "                charPosDict.update(dict_update)\n",
    "            else:\n",
    "                charPosDict[char] = [index]\n",
    "                \n",
    "        for key in charPosDict:\n",
    "            x = charPosDict.get(char)\n",
    "            if len(x > 1):\n",
    "                for i in range(len(x) - 1):\n",
    "                    if(x[i+1]- x[i] > len(palindrome)):\n",
    "                        hain = isPalindrome(s[x[i]:x[i+1]])\n",
    "                        if(hain):\n",
    "                            palindrome = s[x[i]:x[i+1]]\n",
    "        \n",
    "        return subString1, subString2"
   ]
  },
  {
   "cell_type": "code",
   "execution_count": 64,
   "metadata": {},
   "outputs": [],
   "source": [
    "def isPalindrome(s: str) -> str:\n",
    "    for index in range(int(len(s)/2)):\n",
    "        if(s[index] != s[index * -1 -1]):\n",
    "            return False\n",
    "    return True"
   ]
  },
  {
   "cell_type": "code",
   "execution_count": 65,
   "metadata": {},
   "outputs": [],
   "source": [
    "S = Solution()"
   ]
  },
  {
   "cell_type": "code",
   "execution_count": 67,
   "metadata": {
    "scrolled": true
   },
   "outputs": [
    {
     "name": "stdout",
     "output_type": "stream",
     "text": [
      "[]\n",
      "True\n",
      "True\n",
      "[]\n",
      "True\n",
      "True\n",
      "['a']\n",
      "True\n",
      "False\n",
      "['a', 'b']\n",
      "False\n",
      "False\n",
      "['a', 'b']\n",
      "True\n",
      "False\n",
      "['a', 'b', 'd']\n",
      "False\n",
      "False\n"
     ]
    },
    {
     "data": {
      "text/plain": [
       "(['a', 'b', 'd'], ['a', 'b', 'd'])"
      ]
     },
     "execution_count": 67,
     "metadata": {},
     "output_type": "execute_result"
    }
   ],
   "source": [
    "S.longestPalindrome('abd')"
   ]
  },
  {
   "cell_type": "code",
   "execution_count": 32,
   "metadata": {},
   "outputs": [
    {
     "data": {
      "text/plain": [
       "True"
      ]
     },
     "execution_count": 32,
     "metadata": {},
     "output_type": "execute_result"
    }
   ],
   "source": [
    "isPalindrome('')"
   ]
  },
  {
   "cell_type": "code",
   "execution_count": 27,
   "metadata": {},
   "outputs": [],
   "source": [
    "word = 'aba'"
   ]
  },
  {
   "cell_type": "code",
   "execution_count": 28,
   "metadata": {},
   "outputs": [],
   "source": [
    "d = {}"
   ]
  },
  {
   "cell_type": "code",
   "execution_count": 29,
   "metadata": {},
   "outputs": [
    {
     "name": "stdout",
     "output_type": "stream",
     "text": [
      "[0]\n",
      "[0, 2]\n",
      "{'a': [0, 2]}\n"
     ]
    }
   ],
   "source": [
    "for index,char in enumerate(word):\n",
    "    if(char in d):\n",
    "        x = d.get(char)\n",
    "        print(x)\n",
    "        x.append(index)\n",
    "        print(x)\n",
    "        d_update =  {char: x}\n",
    "        print(d_update)\n",
    "        d.update(d_update)\n",
    "    else:\n",
    "        d[char] = [index]"
   ]
  },
  {
   "cell_type": "code",
   "execution_count": 30,
   "metadata": {},
   "outputs": [
    {
     "data": {
      "text/plain": [
       "{'a': [0, 2], 'b': [1]}"
      ]
     },
     "execution_count": 30,
     "metadata": {},
     "output_type": "execute_result"
    }
   ],
   "source": [
    "d"
   ]
  },
  {
   "cell_type": "code",
   "execution_count": null,
   "metadata": {},
   "outputs": [],
   "source": []
  }
 ],
 "metadata": {
  "kernelspec": {
   "display_name": "Python 3",
   "language": "python",
   "name": "python3"
  },
  "language_info": {
   "codemirror_mode": {
    "name": "ipython",
    "version": 3
   },
   "file_extension": ".py",
   "mimetype": "text/x-python",
   "name": "python",
   "nbconvert_exporter": "python",
   "pygments_lexer": "ipython3",
   "version": "3.7.4"
  }
 },
 "nbformat": 4,
 "nbformat_minor": 2
}
