{
 "cells": [
  {
   "cell_type": "markdown",
   "metadata": {},
   "source": [
    "2. Add Two Numbers"
   ]
  },
  {
   "cell_type": "markdown",
   "metadata": {},
   "source": [
    "Linked List data structure from: https://stackabuse.com/python-linked-lists/"
   ]
  },
  {
   "cell_type": "code",
   "execution_count": 1,
   "metadata": {},
   "outputs": [],
   "source": [
    "#Definition for singly-linked list.\n",
    "class ListNode:\n",
    "    def __init__(self, x):\n",
    "        self.val = x\n",
    "        self.next = None\n",
    "    \n",
    "    def has_value(self, val):\n",
    "        if self.val == val: return True\n",
    "        return False"
   ]
  },
  {
   "cell_type": "code",
   "execution_count": 2,
   "metadata": {},
   "outputs": [],
   "source": [
    "#Defining Single Linked list\n",
    "class SingleLinkedList:\n",
    "    def __init__(self):\n",
    "        self.head = None\n",
    "        self.tail = None\n",
    "    \n",
    "    def addListItem(self, item):\n",
    "        \n",
    "        #If the item is a native datatype, convert to ListNode\n",
    "        if not isinstance(item, ListNode):\n",
    "            item = ListNode(item)\n",
    "            \n",
    "        if self.head is None:\n",
    "            self.head = item\n",
    "        else:\n",
    "            self.tail.next = item\n",
    "            \n",
    "    def getLength(self):\n",
    "        length = 0\n",
    "        current_node = self.head\n",
    "        \n",
    "        while current_node is not None:\n",
    "            length += 1\n",
    "            current_node = current_node.next\n",
    "            \n",
    "        return length\n",
    "    \n",
    "    def printListValues(self):\n",
    "        current_node = self.head\n",
    "        \n",
    "        while current_node is not None:\n",
    "            print(current_node.val)\n",
    "            current_node = current_node.next\n",
    "            \n",
    "        return\n",
    "    \n",
    "    def getLastNode(self):\n",
    "        current_node = self.head\n",
    "        \n",
    "        while current_node.next is not None:\n",
    "            current_node = current_node.next\n",
    "            \n",
    "        return current_node, current_node.val"
   ]
  },
  {
   "cell_type": "code",
   "execution_count": 3,
   "metadata": {},
   "outputs": [],
   "source": [
    "soln = ListNode(0)"
   ]
  },
  {
   "cell_type": "code",
   "execution_count": 8,
   "metadata": {},
   "outputs": [],
   "source": [
    "carry = 0"
   ]
  },
  {
   "cell_type": "code",
   "execution_count": 3,
   "metadata": {},
   "outputs": [],
   "source": [
    "#Linked list 1\n",
    "A = ListNode(2)\n",
    "B = ListNode(4)\n",
    "C = ListNode(3)\n",
    "A.next = B\n",
    "B.next = C\n",
    "\n",
    "#Linked list 2\n",
    "D = ListNode(5)\n",
    "E = ListNode(6)\n",
    "F = ListNode(4)\n",
    "D.next = E\n",
    "E.next = F"
   ]
  },
  {
   "cell_type": "code",
   "execution_count": 12,
   "metadata": {},
   "outputs": [],
   "source": [
    "class Solution:\n",
    "    def addTwoNumbers(self, l1: ListNode, l2: ListNode) -> ListNode:\n",
    "        node1 = l1\n",
    "        node2 = l2\n",
    "        #addition = 0\n",
    "        addition = ListNode()\n",
    "        temp = ListNode()\n",
    "        carry = 0\n",
    "        c = 0\n",
    "        while(node1!= None or node2!= None):\n",
    "            digit_sum, carry = self.addNodeVals(node1, node2, carry)\n",
    "            #addition = addition + 10**c * digit_sum\n",
    "            addition.val = digit_sum\n",
    "            addition.next = temp\n",
    "            c+=1\n",
    "            node1 = node1.next\n",
    "            node2 = node2.next\n",
    "        \n",
    "    def addNodeVals(self, node1, node2, carry):\n",
    "        if(node1 != None and node2 != None):\n",
    "            digit_sum = (node1.val + node2.val + carry) % 10\n",
    "            carry = (node1.val+ node2.val + carry) // 10\n",
    "        elif(node1 == None):\n",
    "            digit_sum = node2.val + carry\n",
    "            carry = 0\n",
    "        elif(node2 == None):\n",
    "            digit_sum = node1.val + carry\n",
    "            carry = 0\n",
    "        else:\n",
    "            digit_sum = 0\n",
    "            carry = 0\n",
    "        return digit_sum, carry\n",
    "            \n",
    "        "
   ]
  },
  {
   "cell_type": "code",
   "execution_count": 13,
   "metadata": {},
   "outputs": [],
   "source": [
    "S = Solution()"
   ]
  },
  {
   "cell_type": "code",
   "execution_count": 15,
   "metadata": {},
   "outputs": [
    {
     "name": "stdout",
     "output_type": "stream",
     "text": [
      "2\n",
      "5\n",
      "7\n",
      "4\n",
      "6\n",
      "7\n",
      "3\n",
      "4\n",
      "807\n"
     ]
    }
   ],
   "source": [
    "S.addTwoNumbers(A, D)"
   ]
  },
  {
   "cell_type": "code",
   "execution_count": null,
   "metadata": {},
   "outputs": [],
   "source": []
  }
 ],
 "metadata": {
  "kernelspec": {
   "display_name": "Python 3",
   "language": "python",
   "name": "python3"
  },
  "language_info": {
   "codemirror_mode": {
    "name": "ipython",
    "version": 3
   },
   "file_extension": ".py",
   "mimetype": "text/x-python",
   "name": "python",
   "nbconvert_exporter": "python",
   "pygments_lexer": "ipython3",
   "version": "3.7.7"
  }
 },
 "nbformat": 4,
 "nbformat_minor": 2
}
