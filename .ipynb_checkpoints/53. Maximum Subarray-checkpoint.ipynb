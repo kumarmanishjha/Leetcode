{
 "cells": [
  {
   "cell_type": "markdown",
   "metadata": {},
   "source": [
    "### Given an integer array nums, find the contiguous subarray (containing at least one number) which has the largest sum and return its sum.\n",
    "\n",
    "Example:<br>\n",
    "\n",
    "Input: [-2,1,-3,4,-1,2,1,-5,4] <br>\n",
    "Output: 6<br>\n",
    "Explanation: [4,-1,2,1] has the largest sum = 6.<br>\n",
    "<br>\n",
    "### Follow up:\n",
    "\n",
    "If you have figured out the O(n) solution, try coding another solution using the divide and conquer approach, which is more subtle."
   ]
  },
  {
   "cell_type": "code",
   "execution_count": 58,
   "metadata": {},
   "outputs": [],
   "source": [
    "from typing import List\n",
    "import numpy as np"
   ]
  },
  {
   "cell_type": "code",
   "execution_count": 68,
   "metadata": {},
   "outputs": [],
   "source": [
    "class Solution:\n",
    "    def maxSubArray(self, nums: List[int]) -> int:\n",
    "        curr_sum = 0\n",
    "        curr_subarray = []\n",
    "        max_sum = -99999\n",
    "        max_subarray = []\n",
    "        for item in nums:\n",
    "            if( np.sum(curr_subarray[1:]) > np.sum(curr_subarray)):\n",
    "                curr_subarray = curr_subarray[1:]\n",
    "            \n",
    "            curr_sum = np.sum(curr_subarray)\n",
    "            \n",
    "            if(curr_sum > max_sum):\n",
    "                max_subarray = curr_subarray\n",
    "                max_sum = curr_sum\n",
    "                \n",
    "            new_subarray = curr_subarray + [item]\n",
    "            \n",
    "            if( np.sum(new_subarray) > np.sum(curr_subarray)):\n",
    "                curr_subarray = new_subarray\n",
    "            else:\n",
    "                curr_subarray = []\n",
    "\n",
    "            print(curr_subarray)\n",
    "            print(max_subarray)\n",
    "            \n",
    "        return max_subarray"
   ]
  },
  {
   "cell_type": "code",
   "execution_count": 69,
   "metadata": {},
   "outputs": [],
   "source": [
    "x  = [-2,1,-3,4,-1,2,1,-5,4]"
   ]
  },
  {
   "cell_type": "code",
   "execution_count": 70,
   "metadata": {},
   "outputs": [],
   "source": [
    "S = Solution()"
   ]
  },
  {
   "cell_type": "code",
   "execution_count": 71,
   "metadata": {},
   "outputs": [
    {
     "name": "stdout",
     "output_type": "stream",
     "text": [
      "[]\n",
      "[]\n",
      "[1]\n",
      "[]\n",
      "[]\n",
      "[1]\n",
      "[4]\n",
      "[1]\n",
      "[]\n",
      "[4]\n",
      "[2]\n",
      "[4]\n",
      "[2, 1]\n",
      "[4]\n",
      "[]\n",
      "[4]\n",
      "[4]\n",
      "[4]\n"
     ]
    },
    {
     "data": {
      "text/plain": [
       "[4]"
      ]
     },
     "execution_count": 71,
     "metadata": {},
     "output_type": "execute_result"
    }
   ],
   "source": [
    "S.maxSubArray(x)"
   ]
  },
  {
   "cell_type": "code",
   "execution_count": null,
   "metadata": {},
   "outputs": [],
   "source": []
  }
 ],
 "metadata": {
  "kernelspec": {
   "display_name": "Python 3",
   "language": "python",
   "name": "python3"
  },
  "language_info": {
   "codemirror_mode": {
    "name": "ipython",
    "version": 3
   },
   "file_extension": ".py",
   "mimetype": "text/x-python",
   "name": "python",
   "nbconvert_exporter": "python",
   "pygments_lexer": "ipython3",
   "version": "3.7.4"
  }
 },
 "nbformat": 4,
 "nbformat_minor": 2
}
