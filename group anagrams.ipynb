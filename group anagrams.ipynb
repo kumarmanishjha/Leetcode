{
 "cells": [
  {
   "cell_type": "code",
   "execution_count": 1,
   "metadata": {},
   "outputs": [],
   "source": [
    "from typing import List"
   ]
  },
  {
   "cell_type": "code",
   "execution_count": 22,
   "metadata": {},
   "outputs": [],
   "source": [
    "class Solution:\n",
    "    def groupAnagrams(self, strs: List[str]) -> List[List[str]]:\n",
    "        parent_ana = []\n",
    "        output = []\n",
    "        for word in strs:\n",
    "            str1 = \"\" \n",
    "            list_word = list(word)\n",
    "            list_word.sort()\n",
    "            str2 = str1.join(list_word)\n",
    "            if(str2 in parent_ana):\n",
    "                idx = parent_ana.index(str2)\n",
    "                #print(idx)\n",
    "                #print(output)\n",
    "                output[idx] = output[idx] + [word]\n",
    "            else:\n",
    "                parent_ana.append(str2)\n",
    "                output.append([word])\n",
    "        \n",
    "        return output"
   ]
  },
  {
   "cell_type": "code",
   "execution_count": 23,
   "metadata": {},
   "outputs": [],
   "source": [
    "S = Solution()"
   ]
  },
  {
   "cell_type": "code",
   "execution_count": null,
   "metadata": {},
   "outputs": [],
   "source": []
  }
 ],
 "metadata": {
  "kernelspec": {
   "display_name": "Python 3",
   "language": "python",
   "name": "python3"
  },
  "language_info": {
   "codemirror_mode": {
    "name": "ipython",
    "version": 3
   },
   "file_extension": ".py",
   "mimetype": "text/x-python",
   "name": "python",
   "nbconvert_exporter": "python",
   "pygments_lexer": "ipython3",
   "version": "3.7.9"
  }
 },
 "nbformat": 4,
 "nbformat_minor": 4
}
