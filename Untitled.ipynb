{
 "cells": [
  {
   "cell_type": "code",
   "execution_count": null,
   "metadata": {
    "collapsed": true
   },
   "outputs": [],
   "source": [
    "class Solution:\n",
    "    def longestPalindrome(self, s: str) -> str:\n",
    "        pClone = ''\n",
    "        occurenceDict = {}\n",
    "        for index, char in enumerate(s):\n",
    "            occurenceIndices = [index]\n",
    "            if(char in occurenceDict):\n",
    "                x = occurenceDict.get(char)\n",
    "                occurenceIndices= occurenceIndices + x\n",
    "            occurenceDict[char] = occurenceIndices\n",
    "            \n",
    "        for char in occurenceDict:\n",
    "            if (len(occurenceDict.get(char)) > 1):\n",
    "                 "
   ]
  },
  {
   "cell_type": "code",
   "execution_count": 1,
   "metadata": {
    "collapsed": true
   },
   "outputs": [],
   "source": [
    "def isPalindrome(s):\n",
    "    for index in range(int( len(s)/2.0)):\n",
    "        if( s[index] != s[-index -1] ):\n",
    "            return False\n",
    "    return True"
   ]
  },
  {
   "cell_type": "code",
   "execution_count": 14,
   "metadata": {
    "collapsed": false
   },
   "outputs": [],
   "source": [
    "occurenceDict = {}\n",
    "s = 'Manisha'\n",
    "for index, char in enumerate(s):\n",
    "    occurenceIndices = [index]\n",
    "    if(char in occurenceDict):\n",
    "        x = occurenceDict.get(char)\n",
    "        occurenceIndices= occurenceIndices + x\n",
    "    occurenceDict[char] = occurenceIndices"
   ]
  },
  {
   "cell_type": "code",
   "execution_count": 15,
   "metadata": {
    "collapsed": false
   },
   "outputs": [
    {
     "data": {
      "text/plain": [
       "{'M': [0], 'a': [6, 1], 'h': [5], 'i': [3], 'n': [2], 's': [4]}"
      ]
     },
     "execution_count": 15,
     "metadata": {},
     "output_type": "execute_result"
    }
   ],
   "source": [
    "occurenceDict"
   ]
  },
  {
   "cell_type": "code",
   "execution_count": null,
   "metadata": {
    "collapsed": true
   },
   "outputs": [],
   "source": []
  }
 ],
 "metadata": {
  "kernelspec": {
   "display_name": "Python 3",
   "language": "python",
   "name": "python3"
  },
  "language_info": {
   "codemirror_mode": {
    "name": "ipython",
    "version": 3
   },
   "file_extension": ".py",
   "mimetype": "text/x-python",
   "name": "python",
   "nbconvert_exporter": "python",
   "pygments_lexer": "ipython3",
   "version": "3.6.0"
  }
 },
 "nbformat": 4,
 "nbformat_minor": 2
}
