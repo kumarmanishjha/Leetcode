{
 "cells": [
  {
   "cell_type": "code",
   "execution_count": 1,
   "metadata": {
    "collapsed": true
   },
   "outputs": [],
   "source": [
    "#Definition for singly-linked list.\n",
    "class ListNode:\n",
    "    def __init__(self, x):\n",
    "        self.val = x\n",
    "        self.next = None\n",
    "        "
   ]
  },
  {
   "cell_type": "code",
   "execution_count": 2,
   "metadata": {
    "collapsed": true
   },
   "outputs": [],
   "source": [
    "def getList_len(Head):\n",
    "    x = Head\n",
    "    l = 0\n",
    "    while(not( x is None)):\n",
    "        x = x.next\n",
    "        l += 1\n",
    "    return l"
   ]
  },
  {
   "cell_type": "code",
   "execution_count": 3,
   "metadata": {
    "collapsed": true
   },
   "outputs": [],
   "source": [
    "class Solution:\n",
    "    def addTwoNumbers(self, l1: ListNode, l2: ListNode) -> ListNode:\n",
    "        \n",
    "        sumList = ListNode(0)\n",
    "        sumList.next = ListNode(0)\n",
    "        #Base case:\n",
    "        if(l1.next is None):\n",
    "            sumList.val = int((sumList.val + l2.val)/10)\n",
    "            if(sumList.val > 9):\n",
    "                sumList.next.val = int((sumList.val + l2.val)%10)\n",
    "            else:\n",
    "                sumList.next = l2.next\n",
    "            return sumList\n",
    "        \n",
    "        elif(l2.next is None):\n",
    "            sumList.val = int((sumList.val + l1.val)/10)\n",
    "            if(sumList.val > 9):\n",
    "                sumList.next.val = int((sumList.val + l1.val)%10)\n",
    "            else:\n",
    "                sumList.next = l1.next\n",
    "            return sumList\n",
    "        \n",
    "        else:\n",
    "            sumList.val = int((l1.val + l2.val)/10)\n",
    "            if(sumList.val > 9 and not(l1.next is None and l2.next is None)): \n",
    "                sumList.next.val = int((sumList.val + l1.val + l2.val)%10)\n",
    "            return self.addTwoNumbers(l1.next, l2.next)\n",
    "\n",
    "        \n",
    "        return None\n",
    "            \n",
    "        "
   ]
  },
  {
   "cell_type": "code",
   "execution_count": 4,
   "metadata": {
    "collapsed": false
   },
   "outputs": [],
   "source": [
    "A = ListNode(2)\n",
    "B = ListNode(4)\n",
    "C = ListNode(3)\n",
    "A.next = B\n",
    "B.next = C\n",
    "\n",
    "D = ListNode(5)\n",
    "E = ListNode(6)\n",
    "F = ListNode(4)\n",
    "D.next = E\n",
    "E.next = F"
   ]
  },
  {
   "cell_type": "code",
   "execution_count": 5,
   "metadata": {
    "collapsed": true
   },
   "outputs": [],
   "source": [
    "S = Solution()"
   ]
  },
  {
   "cell_type": "code",
   "execution_count": 8,
   "metadata": {
    "collapsed": false
   },
   "outputs": [],
   "source": [
    "S.addTwoNumbers(A, D).next"
   ]
  }
 ],
 "metadata": {
  "kernelspec": {
   "display_name": "Python 3",
   "language": "python",
   "name": "python3"
  },
  "language_info": {
   "codemirror_mode": {
    "name": "ipython",
    "version": 3
   },
   "file_extension": ".py",
   "mimetype": "text/x-python",
   "name": "python",
   "nbconvert_exporter": "python",
   "pygments_lexer": "ipython3",
   "version": "3.6.0"
  }
 },
 "nbformat": 4,
 "nbformat_minor": 2
}
