{
 "cells": [
  {
   "cell_type": "markdown",
   "metadata": {},
   "source": [
    "## Given a string, find the length of the longest substring without repeating characters.\n",
    "\n",
    "### Example 1:\n",
    "\n",
    "Input: \"abcabcbb\" <br>\n",
    "Output: 3 <br>\n",
    "Explanation: The answer is \"abc\", with the length of 3. <br>\n",
    "Example 2:<br>\n",
    "\n",
    "\n",
    "### Example 2:\n",
    "Input: \"bbbbb\"<br>\n",
    "Output: 1<br>\n",
    "Explanation: The answer is \"b\", with the length of 1.<br>\n",
    "Example 3:<br>\n",
    "\n",
    "### Example 3:\n",
    "Input: \"pwwkew\"<br>\n",
    "Output: 3<br>\n",
    "\n",
    "Explanation:<br>\n",
    "The answer is \"wke\", with the length of 3. <br>\n",
    "Note that the answer must be a substring, \"pwke\" is a subsequence and not a substring."
   ]
  },
  {
   "cell_type": "code",
   "execution_count": 29,
   "metadata": {},
   "outputs": [],
   "source": [
    "class Solution:\n",
    "    def lengthOfLongestSubstring(self, s: str) -> int:\n",
    "        subString1 = []\n",
    "        subString2 = []\n",
    "        for index, char in enumerate(s):\n",
    "            if(index == 0):\n",
    "                subString1.append(char)\n",
    "            else:\n",
    "                if(char not in subString1):\n",
    "                    subString1.append(char)\n",
    "                else:\n",
    "                    if(len(subString1) > len(subString2)):\n",
    "                        subString2 = subString1\n",
    "                    charAt = subString1.index(char)\n",
    "                    subString1 = subString1[charAt+1:]\n",
    "                    subString1.append(char)\n",
    "                    \n",
    "        if(len(subString1) > len(subString2)):\n",
    "         #   return subString1\n",
    "            return len(subString1)\n",
    "        #return subString2\n",
    "        return len(subString2)"
   ]
  },
  {
   "cell_type": "code",
   "execution_count": 9,
   "metadata": {},
   "outputs": [],
   "source": [
    "S = Solution()"
   ]
  },
  {
   "cell_type": "code",
   "execution_count": 10,
   "metadata": {
    "scrolled": true
   },
   "outputs": [
    {
     "data": {
      "text/plain": [
       "6"
      ]
     },
     "execution_count": 10,
     "metadata": {},
     "output_type": "execute_result"
    }
   ],
   "source": [
    "S.lengthOfLongestSubstring('abcfdabcedfb')"
   ]
  },
  {
   "cell_type": "code",
   "execution_count": 8,
   "metadata": {},
   "outputs": [],
   "source": [
    "class Solution:\n",
    "    def lengthOfLongestSubstring(self, s: str) -> int:\n",
    "        subString1 = []\n",
    "        subString2 = []\n",
    "        for index, char in enumerate(s):\n",
    "            if(char in subString1):\n",
    "                if(len(subString1) > len(subString2)):\n",
    "                    subString2 = subString1\n",
    "                subString1 = subString1[subString1.index(char)+1:]\n",
    "            subString1.append(char)\n",
    "                    \n",
    "        return max(len(subString1), len(subString2))"
   ]
  },
  {
   "cell_type": "code",
   "execution_count": null,
   "metadata": {},
   "outputs": [],
   "source": []
  }
 ],
 "metadata": {
  "kernelspec": {
   "display_name": "Python 3",
   "language": "python",
   "name": "python3"
  },
  "language_info": {
   "codemirror_mode": {
    "name": "ipython",
    "version": 3
   },
   "file_extension": ".py",
   "mimetype": "text/x-python",
   "name": "python",
   "nbconvert_exporter": "python",
   "pygments_lexer": "ipython3",
   "version": "3.7.4"
  }
 },
 "nbformat": 4,
 "nbformat_minor": 2
}
